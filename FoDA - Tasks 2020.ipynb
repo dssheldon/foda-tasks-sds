{
 "cells": [
  {
   "cell_type": "markdown",
   "metadata": {},
   "source": [
    "# Fundamentals of Data Analysis (FoDA) - Tasks 2020\n",
    "\n",
    "These are the workbook for the tasks that I have created for the FoDA module. This workbook has been created by Sheldon D'Souza (G00387857@gmit.ie)\n",
    "\n",
    "***"
   ]
  },
  {
   "cell_type": "markdown",
   "metadata": {},
   "source": [
    "### Task for the week of October 5, 2020 - Writing a function 'counts'\n",
    "\n",
    "The objective of Task is to write a Python function called 'counts' that takes a list as input and returns a dictionary of unique items in the list as keys and the number of times each item appears as values.\n",
    "\n",
    "I had seen a similar exercise covered in 'Automate the Boring Stuff with Python' by Al Sweigart [1] which I used as a base for the exercise. \n",
    "\n",
    "I used a for loop to iterate over the list and then check forthe data type. I have written the program so that it will accept one list or a single dictionary within the orginal list fed to the count function. Anything more than that will cause a hashable error which will be handled by the error script and fed back to the user.\n",
    "\n",
    "\n",
    "I used if statements to check the data type of each item within the list. Depending on the the data type, I will modified the count function perform the count function customised to the data type. \n",
    "\n",
    "I also make the item count only lower case alpha characters (or may add an option, to ask the user to choose). \n",
    "\n",
    "If the datatype is a dictionary then the two dictionaries will merge. If the values within the dictionary are non numeric, the program will terminate and inform the user that the dictionary input is not valid. \n",
    "\n",
    "If more than one layer of lists or dictionary then will exit the function and return an error (non hashable error)\n",
    "\n",
    "\n",
    "[1] 'Automate the Boring Stuff with Python' by Al Sweigart - Chapter 5 - Dictionaires and Structuring Data: The Dictionary Data Type\n",
    "\n",
    "[2] https://thispointer.com/how-to-merge-two-or-more-dictionaries-in-python/\n",
    "\n"
   ]
  },
  {
   "cell_type": "code",
   "execution_count": 98,
   "metadata": {},
   "outputs": [],
   "source": [
    "#TODO - clean up variable names\n",
    "# TODO - Add error handling for non hashable error\n",
    "\n",
    "def count1(list1): \n",
    "    flag = 'upper' #TODO  - To be replaced with user input with a dropdown\n",
    "    count_dict = {}\n",
    "    for item in list1:\n",
    "        if type(item)==list:\n",
    "            for x in item:\n",
    "                count_dict.setdefault(x, 0)\n",
    "                count_dict[x] = count_dict[x] + 1\n",
    "        elif type(item)==dict:\n",
    "            for value in item.values():\n",
    "                if str(value).isnumeric():\n",
    "                    tempdict = item\n",
    "                else:\n",
    "                    return 'Error, One of more values of the input dictionary are not numeric. Please include a proper dictionary'\n",
    "        elif type(item)==str and flag == 'lower':\n",
    "            item_lower = item.lower()\n",
    "            count_dict.setdefault(item_lower, 0)\n",
    "            count_dict[item_lower] = count_dict[item_lower] + 1\n",
    "        \n",
    "        elif type(item)==str and flag == 'upper':\n",
    "            item_upper = item.upper()\n",
    "            count_dict.setdefault(item_upper, 0)\n",
    "            count_dict[item_upper] = count_dict[item_upper] + 1\n",
    "\n",
    "        else:\n",
    "            count_dict.setdefault(item, 0)\n",
    "            count_dict[item] = count_dict[item] + 1\n",
    "    \n",
    "    #merge two dictionaires together        \n",
    "\n",
    "    final_dict = {**count_dict, **tempdict}\n",
    "    \n",
    "    for key, value in final_dict.items():\n",
    "        if key in count_dict and key in tempdict:\n",
    "               final_dict[key] = value + count_dict[key]\n",
    "    \n",
    "    return final_dict"
   ]
  },
  {
   "cell_type": "code",
   "execution_count": 99,
   "metadata": {},
   "outputs": [
    {
     "data": {
      "text/plain": [
       "{1: 8, 2: 1, 3: 3, 'A': 4}"
      ]
     },
     "execution_count": 99,
     "metadata": {},
     "output_type": "execute_result"
    }
   ],
   "source": [
    "count1([[1,2,3],{1:7, 3:1},3,'a', 'A', 'a', 'A'])"
   ]
  },
  {
   "cell_type": "code",
   "execution_count": null,
   "metadata": {},
   "outputs": [],
   "source": []
  }
 ],
 "metadata": {
  "kernelspec": {
   "display_name": "Python 3",
   "language": "python",
   "name": "python3"
  },
  "language_info": {
   "codemirror_mode": {
    "name": "ipython",
    "version": 3
   },
   "file_extension": ".py",
   "mimetype": "text/x-python",
   "name": "python",
   "nbconvert_exporter": "python",
   "pygments_lexer": "ipython3",
   "version": "3.8.3"
  }
 },
 "nbformat": 4,
 "nbformat_minor": 4
}

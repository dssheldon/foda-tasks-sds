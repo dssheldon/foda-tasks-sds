{
 "cells": [
  {
   "cell_type": "markdown",
   "metadata": {},
   "source": [
    "# Fundamentals of Data Analysis (FoDA) - Tasks 2020\n",
    "\n",
    "These are the workbook for the tasks that I have created for the FoDA module. This workbook has been created by Sheldon D'Souza (G00387857@gmit.ie)\n",
    "\n",
    "***"
   ]
  },
  {
   "cell_type": "markdown",
   "metadata": {},
   "source": [
    "### Task for the week of October 5, 2020 - Writing a function 'counts'\n",
    "\n",
    "The objective of Task is to write a Python function called 'counts' that takes a list as input and returns a dictionary of unique items in the list as keys and the number of times each item appears as values.\n",
    "\n",
    "#### How the function works\n",
    "\n",
    "- The function requires a list to be passed as an argument\n",
    "- It will then ask the user for input on whether the user wants to count upper and lower case items as unique. A message will appear on the screen:\n",
    "```       \n",
    "Do you want the  count to be case sensitive\n",
    "Enter '1' to treat all as upper case\n",
    "Enter '2' to treat all as lower case\n",
    "Enter '3' to count in original case\n",
    "```\n",
    "- Depending on the choice the user makes, the function will treat the unique items in the list as case sensitive or otherwise (e.g. a list containing 'A' and 'a' will give a count of A:2 or a:2 in case option 1 or 2 are selected respectively; and A:1 , a:1 when option 3 is selected). If the user inputs anything else except 1,2 or 3 the program gives an error message and terminates\n",
    "- The function will return a dictionary of  unique items OR return an error message if the the  list has items which are outside the parameters (mentioned in the function limitations below) \n",
    "\n",
    "\n",
    "#### Function scope and limitations\n",
    "\n",
    "The function accepts a list subject to the following limitations:\n",
    "\n",
    "- The list can contain any characters (alphaumeric, special characters etc.)\n",
    "- The list can contain another list/tuples. However, that embedded list/tuples/dictionary cannot contain any further lists/tuples/dictionary. In other words ONLY one layer of embded lists or tuples or dictionaries is allowed\n",
    "- The list can contain a dictionary. However, that dictionary cannot contain any further list, tuple or dictionary (see previous point). Furthermore, the embedded dictionary needs to contain only numeric values.\n",
    "- The embedded lists, tuples and dictionaries will be added to the count of values in the main list\n",
    "\n",
    "If the above limitations are exceeded the function will return and error and will terminate. \n",
    "\n",
    "\n",
    "#### Researching and planning the exercise\n",
    "\n",
    "I had seen a similar exercise covered in 'Automate the Boring Stuff with Python' by Al Sweigart [1] which I used as a base for the exercise. \n",
    "\n",
    "I planned the assignment as follows:\n",
    "\n",
    "- Researching and writing the core code which does the count\n",
    "- adding in the code for the imbedded lists/tuples and dictionaries\n",
    "- added code which will check whether the values for the embedded dictionaries are numeric\n",
    "- added code to merge the embedded dictionary and the 'output' dictionary together\n",
    "- adding in the code for the user input which in turn will set a flag for whether the charaters should be counted as case sensitive and added code based on each 'flag' scenario\n",
    "- added try and except codes to return an exception and terminate the function in case the program exceeds the inbuilt limitations \n",
    "\n",
    "\n",
    "\n",
    "#### Writing the code\n",
    "\n",
    "*Core code*\n",
    "\n",
    "The core piece of code is not very complicated and mainly revolved around the use of a for loop to iterate over the list. [2].\n",
    "\n",
    "The core code uses the 'setdefault' method of a dictionary object to create keys where they do not aready exist and uses a counter to keep track of the number of instances for a particuar key. A sample of this code is below\n",
    "\n",
    "```python\n",
    "DICT.setdefault(item, 0)\n",
    "DICT[item] = count_dict[item] + 1\n",
    "```\n",
    "\n",
    "*Input code*\n",
    "\n",
    "The input code uses the input statement to display a prompt to request the user for a choice of the numbers 1,2 or 3. The function then uses an if, elif and else statement to evaluate the user input and sets a varible to a certain state depending on the user input. The else statement terminates the function and returns an error message if the user inputs an incorrect choice. (See documentation above for details of the choices offered) [3]\n",
    "\n",
    "\n",
    "*The main code block*\n",
    "\n",
    "The main code of the program is written as follows:\n",
    "1. Two blank dictionaries are created. The first one is to hold the output of the function and the second is to hold the content of any embedded list passed as an argument (these lists will be merged in a later part of the code)\n",
    "2. A for loop that iterates through the list and checks for the data type. \n",
    "3. The function uses the inbuilt type function within python to check for the data type of each element of the list passed as an argument \n",
    "4. A series of if, elif and else statements then run seperate codes depending on the data type\n",
    "5. If the data type is an list or tuple (i.e. an embedded within the main list passed) the function will run another for loop to iterate over each element within that list or tuple and run the 'core code' as detailed in the 'core code' section above'\n",
    "6. If the data type is a dictionary, the code will use a for loop to iterate through the dictionary using an if statement to check whether each value of the dictionary is numerical (so that they can be combined with the main input dictionary). If any of the 'value' keys of the dictionary is not numerical, the function will terminate and return a string with the reason for the error. The code to accomplish this uses a flag variable that increases by '1' each time the value within the dictionary is numeric (isnumeric method of a string object). The flag variable is compared to the length of the dictionary and if the two are same it means that all the values in the dictionary are numeric. In this case the function appends the 'validated' dictionary to a temporary list using the .append method of a list object.\n",
    "7. The next three blocks of code (2 elif and 1 else) checks whether the user wants the alpha characters to be upper or lower case or original case and then counts them accordingly converting them where necessary. The function checks whether the data type is a 'string' and also checks the value of the 'flag' variable set in the input block of the code. The code then uses the 'upper' or 'lower' attribute of a 'string' data type to convert the data item to upper or lower case. If no flag is selected (i.e. the flag variable is set to ''), the function treats upper and lower case data items as disctinct for the purpose of the output dictionary.\n",
    "8. The final code in the code block merges the output and the 'embedded input' dictionaries together. The code was inpired by a stackoverflow post [4]. As mentioned in point 6 above, the embedded dictionaries are checked for validity and then appended onto a temporary list. The output dictionary is also appended onto this list and so we get a list of dictionaries. We then use two 'for' loops to (1) go through each dictionary and (2) then the items(key, value pairs) within each dictionary. Using  the 'setdefault' method of the dictionary object, we append the keys of the dictionaries to a new dictionary called 'final_dict. Setdefault ensures that the current dictionary key wil be added to the final_dict if it does not already exist and add together the values associated with that key on each iteration of the for loop.\n",
    "\n",
    "\n",
    "\n",
    "*Error Handling*\n",
    "As mentioned in the function scope and limitation sections above, the function will accept a single embedded list, tuple or  dictionary within the orginal input list. Anything other than this will cause a 'non hashable error' which will be handled by the 'try and except' block of code within which the function is embedded. Any TyperError generated will be addressed by the try and except code and will return an error message to the user specifing the error. [5]\n",
    "\n",
    "\n",
    "\n",
    "\n",
    "#### References\n",
    "[1] 'Automate the Boring Stuff with Python' by Al Sweigart - Chapter 5 - Dictionaires and Structuring Data: The Dictionary Data Type\n",
    "\n",
    "[2] A Whirlwind tour of Python by Jake VanderPlas - 'Control Flow'\n",
    "\n",
    "[3] https://www.askpython.com/python/examples/python-user-input\n",
    "\n",
    "[4] https://stackoverflow.com/questions/20509570/merge-dictionaries-without-overwriting-previous-value-where-value-is-a-list\n",
    "\n",
    "[5] A Whirlwind tour of Python by Jake VanderPlas - 'Errors and Exceptions'\n"
   ]
  },
  {
   "cell_type": "code",
   "execution_count": 44,
   "metadata": {},
   "outputs": [],
   "source": [
    "def count(a_list):\n",
    "    '''This function takes a list as an argument and returns a dictionary of unique items and the \n",
    "            number of times they appear in the list'''\n",
    "    \n",
    "    try: # used a try/except blocks to hand TypeErrors in case an invalid list is input\n",
    "        \n",
    "        \n",
    "        #flag will ask for a user choice on whether the count for alpha characters will be case sensitive or not\n",
    "        flag = input(\"Do you want the  count to be case sensitive. \\\n",
    "                     Enter '1' to treat all as upper case. \\\n",
    "                     Enter '2' to treat all as lower case. \\\n",
    "                     Enter '3' to count in original case\")\n",
    "        if str(flag) == '1':\n",
    "            flag = 'upper'\n",
    "        elif str(flag) == '2':\n",
    "            flag = 'lower'\n",
    "        elif str(flag) == '3':\n",
    "            flag = ''\n",
    "        else:\n",
    "            return 'Invalid input. Please rerun program \\\n",
    "                    and make the correct case sensitivity choice' #Invalid choice terminates the program\n",
    "        \n",
    "        \n",
    "        \n",
    "        count_dict = {} # initial dictionary to count the data types. Start as blank\n",
    "        final_dict = {} # the final dictionary returned by the function. Start as blank\n",
    "        templist = [] #temp list to accumulate the dictionaries. Start as blank \n",
    "        \n",
    "        for item in a_list: #iterate through each item on the list and count it's elements based on the type of the item\n",
    "            \n",
    "            if type(item)==list or type(item)==tuple: #The program will allow one layer of list or tuples within the input list\n",
    "                for inner_item in item:\n",
    "                    if type(inner_item) == str and flag == 'upper':\n",
    "                        inner_item = inner_item.upper()\n",
    "                    elif type(inner_item) == str and flag == 'lower':\n",
    "                        inner_item = inner_item.lower()\n",
    "                    count_dict.setdefault(inner_item, 0) #setdefault will generate a key if none exists and give it the value of zero\n",
    "                    count_dict[inner_item] = count_dict[inner_item] + 1 #1 will be added to the 'value' of the key in the previous line\n",
    "                        \n",
    "                    \n",
    "            elif type(item)==dict:\n",
    "                tempflag = 0  #see below\n",
    "                for value in item.values():\n",
    "                    if str(value).isnumeric(): #this checks whether if each value in  the dictionary is numeric\n",
    "                        tempflag = tempflag + 1 #if numeric the flag value will increase by 1\n",
    "                if tempflag == len(item): #if all values are numeric; the flag value will equal the length of the dictionary\n",
    "                    templist.append(item) # In this case the dictionary is valid and is included for further processing into a temporary list\n",
    "                else:\n",
    "                    return 'Error, One of more values of the input dictionary are not numeric. \\\n",
    "                        #Please include a proper dictionary' #if the value of the inner dictionary are not numbers the function terminates and returns an error to the user\n",
    "                    \n",
    "            \n",
    "            #The next three blocks of code (2 elif and 1 else) checks whether the user wants the alpha characters to be upper\n",
    "            # or lower case or original case and then counts them accordingly converting them where necessary.\n",
    "            elif type(item)==str and flag == 'lower':\n",
    "                item_lower = item.lower()\n",
    "                count_dict.setdefault(item_lower, 0)\n",
    "                count_dict[item_lower] = count_dict[item_lower] + 1\n",
    "\n",
    "            elif type(item)==str and flag == 'upper':\n",
    "                item_upper = item.upper()\n",
    "                count_dict.setdefault(item_upper, 0)\n",
    "                count_dict[item_upper] = count_dict[item_upper] + 1\n",
    "\n",
    "            else:\n",
    "                count_dict.setdefault(item, 0)\n",
    "                count_dict[item] = count_dict[item] + 1\n",
    "\n",
    "        templist.append(count_dict) # This appends all dictionaries together within a single list\n",
    "\n",
    "        for d in templist: #This code goes through each item in the list (which are dictionaries)\n",
    "            for k, v in d.items(): #and for each dictionary will iterate through each key value pair\n",
    "                final_dict.setdefault(k, 0) #setdefaut will add the key to the final_dict (even if it doesn't exist)\n",
    "                final_dict[k] = final_dict[k] + v #and add the 'values' of the keys together\n",
    "        \n",
    "        return final_dict\n",
    "    \n",
    "    except TypeError:\n",
    "        return \"Error. You have included a list/tuple within a list/tuple or an invaid dictionary. \\\n",
    "                Please refer to Readme file to see acceptable input parameters\""
   ]
  },
  {
   "cell_type": "markdown",
   "metadata": {},
   "source": [
    "#### Testing the function\n",
    "\n",
    "See below a test of the function:"
   ]
  },
  {
   "cell_type": "code",
   "execution_count": 46,
   "metadata": {},
   "outputs": [
    {
     "name": "stdout",
     "output_type": "stream",
     "text": [
      "Do you want the  count to be case sensitive.                      Enter '1' to treat all as upper case.                      Enter '2' to treat all as lower case.                      Enter '3' to count in original case2\n"
     ]
    },
    {
     "data": {
      "text/plain": [
       "{1: 22,\n",
       " 3: 7,\n",
       " 5: 9,\n",
       " 'cat': 4,\n",
       " 2: 4,\n",
       " 7: 2,\n",
       " 9: 1,\n",
       " 'a': 4,\n",
       " 4: 1,\n",
       " 'spam': 2,\n",
       " 'eggs': 2}"
      ]
     },
     "execution_count": 46,
     "metadata": {},
     "output_type": "execute_result"
    }
   ],
   "source": [
    "count([[1,2,1,2,3],[2,3,5,7,9],3,7,{1:7, 3:2},{1:12, 5:7, 'cat':4},'a', 'A', 'a', 'A',(1,2,3),(3,4,5),'spam','eggs',('spam','eggs')])"
   ]
  },
  {
   "cell_type": "markdown",
   "metadata": {},
   "source": [
    "### END TASK 1"
   ]
  },
  {
   "cell_type": "markdown",
   "metadata": {},
   "source": [
    "***"
   ]
  },
  {
   "cell_type": "markdown",
   "metadata": {},
   "source": [
    "### Task for the week of November 2nd, 2020 - Writing a function 'dicerolls'\n",
    "\n",
    "The objective of Task is to write a Python function called 'dicerolls' that simulates the rolling of 'k' number of dice for 'n' number of rolls. The function takes two inputs (1) 'k', which are the number of dice rolled and (2) 'n' which is the number of times 'k' dice are rolled. The sum of the face values of each dice is collated after each roll. The output of the function is a dictionary which returns the sum of the face values from each roll as the keys and the count of the number of times that each sum of face values is rolled.\n",
    "\n",
    "The end dictionary should look something like: \n",
    "\n",
    "`{2:19,3:50,4:82,5:112,6:135,7:174,8:133,9:114,10:75,11:70,12:36}`"
   ]
  },
  {
   "cell_type": "markdown",
   "metadata": {},
   "source": [
    "Project Plan:\n",
    "\n",
    "- Write proof of concept code (as code seems pretty simple). Code comprises mainly of two for loops\n",
    "- Include input validation and error handling\n",
    "- tighten up code by using list comprehension etc.\n",
    "- Finalise code by cleaning up variables etc\n",
    "- Include an analysis of the data by graphs\n",
    "- Any other interesting analysis\n",
    "- Add commentary and oberservations"
   ]
  },
  {
   "cell_type": "code",
   "execution_count": 15,
   "metadata": {},
   "outputs": [],
   "source": [
    "def dicerolls(k, n):\n",
    "    import random #import random module\n",
    "    l = [] #empty list to accumulate the sum of the dice after each roll\n",
    "    d = {} # dictionary to hold the final output\n",
    "    for x in range(n): #first for loop to simulate the number of rolls\n",
    "        count = 0 # variable to hold the sum of the values per roll\n",
    "        for y in range(k): # for loop to simlulate the number of dice \n",
    "            count = count + random.randint(1, 6) # random selection of the dice roll and accumulation of the rolls in the count variable\n",
    "            l.append(count) #append the result of sum of the rolls to a list\n",
    "    for i in l: #for loop to iterate through list of rolls values\n",
    "        d.setdefault(i,0) #generate keys where none exist using the setdefault method\n",
    "        d[i] = d[i] + 1 #accunulate the values for each key\n",
    "    return (d) #returns the final dictionary"
   ]
  },
  {
   "cell_type": "code",
   "execution_count": 14,
   "metadata": {},
   "outputs": [
    {
     "data": {
      "text/plain": [
       "{4: 16636, 1: 16685, 5: 16586, 2: 16878, 3: 16706, 6: 16509}"
      ]
     },
     "execution_count": 14,
     "metadata": {},
     "output_type": "execute_result"
    }
   ],
   "source": [
    "dicerolls(1,100000)"
   ]
  },
  {
   "cell_type": "code",
   "execution_count": null,
   "metadata": {},
   "outputs": [],
   "source": []
  }
 ],
 "metadata": {
  "kernelspec": {
   "display_name": "Python 3",
   "language": "python",
   "name": "python3"
  },
  "language_info": {
   "codemirror_mode": {
    "name": "ipython",
    "version": 3
   },
   "file_extension": ".py",
   "mimetype": "text/x-python",
   "name": "python",
   "nbconvert_exporter": "python",
   "pygments_lexer": "ipython3",
   "version": "3.8.3"
  }
 },
 "nbformat": 4,
 "nbformat_minor": 4
}

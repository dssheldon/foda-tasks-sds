{
 "cells": [
  {
   "cell_type": "markdown",
   "metadata": {},
   "source": [
    "# Fundamentals of Data Analysis (FoDA) - Tasks 2020\n",
    "\n",
    "These are the workbook for the tasks that I have created for the FoDA module. This workbook has been created by Sheldon D'Souza (G00387857@gmit.ie)\n",
    "\n",
    "***"
   ]
  },
  {
   "cell_type": "markdown",
   "metadata": {},
   "source": [
    "### Task for the week of October 5, 2020 - Writing a function 'counts'\n",
    "\n",
    "The objective of Task is to write a Python function called 'counts' that takes a list as input and returns a dictionary of unique items in the list as keys and the number of times each item appears as values.\n",
    "\n",
    "I had seen a similar exercise covered in 'Automate the Boring Stuff with Python' by Al Sweigart [1] which I used as a base for the exercise. \n",
    "\n",
    "I used a for loop to iterate over the list and then check forthe data type. I have written the program so that it will accept one list or a single dictionary within the orginal list fed to the count function. Anything more than that will cause a hashable error which will be handled by the error script and fed back to the user.\n",
    "\n",
    "\n",
    "I used if statements to check the data type of each item within the list. Depending on the the data type, I will modified the count function perform the count function customised to the data type. \n",
    "\n",
    "I also make the item count only lower case alpha characters (or may add an option, to ask the user to choose). \n",
    "\n",
    "If the datatype is a dictionary then the two dictionaries will merge. If the values within the dictionary are non numeric, the program will terminate and inform the user that the dictionary input is not valid. \n",
    "\n",
    "If more than one layer of lists or dictionary then will exit the function and return an error (non hashable error)\n",
    "\n",
    "\n",
    "[1] 'Automate the Boring Stuff with Python' by Al Sweigart - Chapter 5 - Dictionaires and Structuring Data: The Dictionary Data Type\n",
    "\n",
    "[2] https://thispointer.com/how-to-merge-two-or-more-dictionaries-in-python/\n",
    "\n",
    "[3] https://www.askpython.com/python/examples/python-user-input\n",
    "\n"
   ]
  },
  {
   "cell_type": "code",
   "execution_count": 1,
   "metadata": {},
   "outputs": [],
   "source": [
    "#TODO - clean up variable names\n",
    "\n",
    "def count(a_list):\n",
    "    try: # used a try/except blocks to hand TypeErrors in case an invalid list is input\n",
    "        \n",
    "        \n",
    "        #flag will ask for a user choice on whether the count for alpha characters will be case sensitive or not\n",
    "        flag = input(\"Do you want the  count to be case sensitive. \\\n",
    "                     Enter '1' to treat all as upper case. \\\n",
    "                     Enter '2' to treat all as lower case. \\\n",
    "                     Enter '3' to count in original case\")\n",
    "        if str(flag) == '1':\n",
    "            flag = 'upper'\n",
    "        elif str(flag) == '2':\n",
    "            flag = 'lower'\n",
    "        elif str(flag) == '3':\n",
    "            flag = ''\n",
    "        else:\n",
    "            return 'Invalid input. Please rerun program \\\n",
    "                    and make the correct case sensitivity choice' #Invalid choice terminates the program\n",
    "        \n",
    "        \n",
    "        \n",
    "        count_dict = {} # start with a blank dictionary\n",
    "        tempdict = {} # a temporary dictionary for use below\n",
    "        \n",
    "        for item in a_list: #iterate through each item on the list and count it's elements based on the type of the item\n",
    "            \n",
    "            if type(item)==list or type(item)==tuple: #The program will allow one layer of list or tuples within the input list\n",
    "                for inner_item in item:\n",
    "                    count_dict.setdefault(inner_item, 0) #setdefault will generate a key if none exists and give it the value of zero\n",
    "                    count_dict[inner_item] = count_dict[inner_item] + 1 #1 will be added to the 'value' of the key in the previous line\n",
    "            \n",
    "            elif type(item)==dict: #if a dictionary is passed within the list then this code will iterate though each 'value' of the inner dictionary to ensure that they are numbers\n",
    "                for value in item.values():\n",
    "                    if str(value).isnumeric():\n",
    "                        tempdict = item #if all the values of the dictionary are numbers then the dictionary is valid and it is stored to tempdict variable for further processing\n",
    "                    else:\n",
    "                        return 'Error, One of more values of the input dictionary are not numeric. \\\n",
    "                                Please include a proper dictionary' #if the value of the inner dictionary are not numbers the program terminates\n",
    "            \n",
    "            #The next three blocks of code (2 elif and 1 else) checks whether the user wants the alpha characters to be upper\n",
    "            # or lower case or original case and then counts them accordingly converting them where necessary.\n",
    "            elif type(item)==str and flag == 'lower':\n",
    "                item_lower = item.lower()\n",
    "                count_dict.setdefault(item_lower, 0)\n",
    "                count_dict[item_lower] = count_dict[item_lower] + 1\n",
    "\n",
    "            elif type(item)==str and flag == 'upper':\n",
    "                item_upper = item.upper()\n",
    "                count_dict.setdefault(item_upper, 0)\n",
    "                count_dict[item_upper] = count_dict[item_upper] + 1\n",
    "\n",
    "            else:\n",
    "                count_dict.setdefault(item, 0)\n",
    "                count_dict[item] = count_dict[item] + 1\n",
    "\n",
    "        \n",
    "        #if there is a dictionary in the input list then the following code will merge the two dictionaires together        \n",
    "\n",
    "        final_dict = {**count_dict, **tempdict} #code to merge the dictionaries into a new dictionary\n",
    "\n",
    "        for key, value in final_dict.items(): #TODO -  add comments\n",
    "            if key in count_dict and key in tempdict:\n",
    "                   final_dict[key] = value + count_dict[key]\n",
    "\n",
    "        return final_dict\n",
    "    \n",
    "    except TypeError:\n",
    "        return \"Error. You have included more than one list/tuple within a list/tuple or an invaid dictionary. \\\n",
    "                Please refer to Readme file to see acceptable input parameters\""
   ]
  },
  {
   "cell_type": "code",
   "execution_count": 2,
   "metadata": {},
   "outputs": [
    {
     "name": "stdout",
     "output_type": "stream",
     "text": [
      "Do you want the  count to be case sensitive.                      Enter '1' to treat all as upper case.                      Enter '2' to treat all as lower case.                      Enter '3' to count in original case1\n"
     ]
    },
    {
     "data": {
      "text/plain": [
       "{1: 10, 2: 3, 3: 5, 7: 1, 'A': 4}"
      ]
     },
     "execution_count": 2,
     "metadata": {},
     "output_type": "execute_result"
    }
   ],
   "source": [
    "count([[1,2,1,2,3],3,7,{1:7, 3:2},'a', 'A', 'a', 'A',(1,2,3)])"
   ]
  },
  {
   "cell_type": "code",
   "execution_count": null,
   "metadata": {},
   "outputs": [],
   "source": []
  }
 ],
 "metadata": {
  "kernelspec": {
   "display_name": "Python 3",
   "language": "python",
   "name": "python3"
  },
  "language_info": {
   "codemirror_mode": {
    "name": "ipython",
    "version": 3
   },
   "file_extension": ".py",
   "mimetype": "text/x-python",
   "name": "python",
   "nbconvert_exporter": "python",
   "pygments_lexer": "ipython3",
   "version": "3.8.3"
  }
 },
 "nbformat": 4,
 "nbformat_minor": 4
}
